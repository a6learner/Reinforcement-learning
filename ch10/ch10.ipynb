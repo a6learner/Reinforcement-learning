{
 "cells": [
  {
   "cell_type": "markdown",
   "metadata": {},
   "source": [
    "# 十分钟强化学习第十讲：策略梯度方法"
   ]
  },
  {
   "cell_type": "markdown",
   "metadata": {},
   "source": [
    "## Policy gradient methods理解"
   ]
  },
  {
   "cell_type": "markdown",
   "metadata": {},
   "source": [
    "- value-base 方法是先根据Q值评估策略，再进行策略调整\n",
    "- Policy-base 方法直接调整Policy Function，使其在环境中的表现最好(E(V0))\n",
    "- 可以直接处理高维或连续的action space"
   ]
  },
  {
   "cell_type": "markdown",
   "metadata": {},
   "source": [
    "## policy gradient的定义：\n",
    "\n",
    "policy_gradient = -(returns * logpas).mean()"
   ]
  },
  {
   "cell_type": "markdown",
   "metadata": {},
   "source": [
    "- returns是一串行为轨迹中某个action后的收益之和\n",
    "- log_prob_action是某个action的概率值取log\n",
    "- 如果一个action之后取得正的return，公式取正值，torch会让预测概率向1的方向修正\n",
    "- 如果一个action之后取得负的return，公式取负值，torch会让预测概率向0的方向修正\n",
    "- 这样就“强化”了正确的action，“弱化”了错误的action"
   ]
  },
  {
   "cell_type": "code",
   "execution_count": 1,
   "metadata": {},
   "outputs": [],
   "source": [
    "import numpy as np \n",
    "import matplotlib.pyplot as plt \n",
    "%matplotlib inline "
   ]
  },
  {
   "cell_type": "code",
   "execution_count": 3,
   "metadata": {},
   "outputs": [
    {
     "data": {
      "text/plain": [
       "<matplotlib.collections.LineCollection at 0x290f7e39b10>"
      ]
     },
     "execution_count": 3,
     "metadata": {},
     "output_type": "execute_result"
    },
    {
     "data": {
      "image/png": "[encoded data removed]",
      "text/plain": [
       "<Figure size 640x480 with 1 Axes>"
      ]
     },
     "metadata": {},
     "output_type": "display_data"
    }
   ],
   "source": [
    "x = np.linspace(0.001, 1.2, 100)\n",
    "y = np.log(x)\n",
    "plt.plot(x,y)\n",
    "plt.hlines(0.001, 1.2,0,linestyles='dotted',color = 'grey')"
   ]
  },
  {
   "cell_type": "markdown",
   "metadata": {},
   "source": [
    "## REINFORCE代码实现"
   ]
  },
  {
   "cell_type": "code",
   "execution_count": 7,
   "metadata": {},
   "outputs": [],
   "source": [
    "import torch\n",
    "import torch.nn as nn\n",
    "import torch.optim as optim\n",
    "import torch.nn.functional as F\n",
    "import gym\n",
    "import numpy as np\n",
    "import random"
   ]
  },
  {
   "cell_type": "code",
   "execution_count": 14,
   "metadata": {},
   "outputs": [],
   "source": [
    "class Linear_PNet(nn.Module):\n",
    "\n",
    "    def __init__(self, input_size, hidden_size, output_size):\n",
    "        super().__init__()\n",
    "        self.linear1 = nn.Linear(input_size, hidden_size)\n",
    "        self.linear2 = nn.Linear(hidden_size, output_size)\n",
    "\n",
    "    def forward(self, state, explore):\n",
    "        if not isinstance(state, torch.Tensor):\n",
    "            state = torch.tensor(state, dtype=torch.float32)\n",
    "\n",
    "        x = F.relu(self.linear1(state))\n",
    "        x = self.linear2(x)\n",
    "        probs = F.softmax(x, dim=0)\n",
    "        action = self.get_action(probs, explore=explore)\n",
    "        log_prob_action = torch.log(probs)[action]\n",
    "        return action, log_prob_action\n",
    "    \n",
    "    \n",
    "    def get_action(self, probs, explore):\n",
    "        probs = probs.detach().numpy()\n",
    "        if explore:\n",
    "            return np.random.choice(len(probs), p=probs)\n",
    "        else:\n",
    "            return probs.argmax()\n",
    "        "
   ]
  },
  {
   "cell_type": "code",
   "execution_count": 15,
   "metadata": {},
   "outputs": [],
   "source": [
    "class REINFORCE:\n",
    "    def __init__(self, state_space, action_space):\n",
    "        self.policy_model = Linear_PNet(state_space,16,action_space)\n",
    "        self.optimizer = optim.Adam(self.policy_model.parameters(), lr=0.0001)\n",
    "        self.gamma = 0.99\n",
    "        self.state_space = state_space\n",
    "\n",
    "    def reset(self):\n",
    "        self.logpas = []\n",
    "        self.rewards = []\n",
    "        self.step = 0\n",
    "\n",
    "    def optimize_model(self):\n",
    "        T = len(self.rewards)\n",
    "        discounts = np.logspace(0, T, num=T, base=self.gamma, endpoint=False)\n",
    "        returns = np.array([np.sum(discounts[:T-t] * self.rewards[t:]) for t in range(T)])\n",
    "\n",
    "        discounts = torch.FloatTensor(discounts)\n",
    "        returns = torch.FloatTensor(returns)\n",
    "        self.logpas_tensor = torch.stack(self.logpas)\n",
    "\n",
    "        # Loss for pytorch\n",
    "        policy_gradient = -(returns * self.logpas_tensor).mean()\n",
    "\n",
    "        self.optimizer.zero_grad()\n",
    "        policy_gradient.backward()\n",
    "        self.optimizer.step()\n",
    "\n",
    "    def interaction_step(self, state, env, explore):\n",
    "        action, logpa = self.policy_model(state,explore)\n",
    "        new_state, reward, is_terminal, _, _ = env.step(action)\n",
    "        self.step += 1\n",
    "        new_state = self.one_hot(new_state,self.state_space)\n",
    "        new_state = torch.tensor(new_state, dtype=torch.float32)\n",
    "        self.logpas.append(logpa)\n",
    "        if self.step > 100 and not is_terminal:\n",
    "            is_terminal = True\n",
    "        if is_terminal and reward == 0:\n",
    "            self.rewards.append(-1)\n",
    "        else:\n",
    "            self.rewards.append(reward)\n",
    "\n",
    "        return new_state, reward, is_terminal\n",
    "    \n",
    "    @staticmethod\n",
    "    def one_hot(x,size):\n",
    "        result = np.zeros(size)\n",
    "        result[x] = 1\n",
    "        return result "
   ]
  },
  {
   "cell_type": "code",
   "execution_count": 16,
   "metadata": {},
   "outputs": [],
   "source": [
    "def train(env,max_episodes=80000, max_explore = 5000):\n",
    "    agent = REINFORCE(env.observation_space.n,env.action_space.n)\n",
    "    n_game = 0\n",
    "    total_step = 0\n",
    "    results = []\n",
    "    for _ in range(max_episodes):\n",
    "        agent.reset()\n",
    "        state, _ = env.reset()\n",
    "        is_terminal = False\n",
    "        state = agent.one_hot(state,env.observation_space.n)\n",
    "        while not is_terminal:\n",
    "            epsilon = max_explore - n_game\n",
    "            isExplore = random.randint(0, max_explore) < epsilon\n",
    "            state, reward, is_terminal = agent.interaction_step(state, env, isExplore)\n",
    "            total_step += 1\n",
    "            if is_terminal:\n",
    "                results.append(reward>0)\n",
    "        \n",
    "        agent.optimize_model()\n",
    "        n_game += 1\n",
    "\n",
    "        if (n_game>0) and (n_game % 1000 ==0):         \n",
    "            print(\"Running episode  {}, step {} Reaches goal {:.2f}%. \".format(\n",
    "                n_game, total_step,np.sum(results[-100:]))) \n"
   ]
  },
  {
   "cell_type": "code",
   "execution_count": 17,
   "metadata": {},
   "outputs": [
    {
     "name": "stdout",
     "output_type": "stream",
     "text": [
      "Running episode  1000, step 8022 Reaches goal 1.00%. \n",
      "Running episode  2000, step 16478 Reaches goal 1.00%. \n",
      "Running episode  3000, step 25877 Reaches goal 1.00%. \n",
      "Running episode  4000, step 35134 Reaches goal 1.00%. \n",
      "Running episode  5000, step 44265 Reaches goal 4.00%. \n",
      "Running episode  6000, step 53895 Reaches goal 7.00%. \n",
      "Running episode  7000, step 63409 Reaches goal 3.00%. \n",
      "Running episode  8000, step 73302 Reaches goal 7.00%. \n",
      "Running episode  9000, step 83858 Reaches goal 10.00%. \n",
      "Running episode  10000, step 95291 Reaches goal 8.00%. \n",
      "Running episode  11000, step 126497 Reaches goal 60.00%. \n",
      "Running episode  12000, step 162682 Reaches goal 60.00%. \n",
      "Running episode  13000, step 197920 Reaches goal 62.00%. \n",
      "Running episode  14000, step 234169 Reaches goal 68.00%. \n",
      "Running episode  15000, step 269273 Reaches goal 54.00%. \n",
      "Running episode  16000, step 306780 Reaches goal 62.00%. \n",
      "Running episode  17000, step 347555 Reaches goal 75.00%. \n",
      "Running episode  18000, step 388000 Reaches goal 64.00%. \n",
      "Running episode  19000, step 427732 Reaches goal 70.00%. \n",
      "Running episode  20000, step 465747 Reaches goal 64.00%. \n"
     ]
    }
   ],
   "source": [
    "env = gym.make('FrozenLake-v1')\n",
    "train(env, 20000,10000)"
   ]
  }
 ],
 "metadata": {
  "kernelspec": {
   "display_name": "base",
   "language": "python",
   "name": "python3"
  },
  "language_info": {
   "codemirror_mode": {
    "name": "ipython",
    "version": 3
   },
   "file_extension": ".py",
   "mimetype": "text/x-python",
   "name": "python",
   "nbconvert_exporter": "python",
   "pygments_lexer": "ipython3",
   "version": "3.10.9"
  }
 },
 "nbformat": 4,
 "nbformat_minor": 2
}
