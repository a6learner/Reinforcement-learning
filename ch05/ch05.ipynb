{
 "cells": [
  {
   "cell_type": "markdown",
   "metadata": {},
   "source": [
    "# 十分钟强化学习第五讲：SARSA和Q-Learning"
   ]
  },
  {
   "cell_type": "markdown",
   "metadata": {},
   "source": [
    "![Alt text](frozen_lake.gif)"
   ]
  },
  {
   "cell_type": "markdown",
   "metadata": {},
   "source": [
    "- G值(return)是一串行动轨迹上的回报(reward)之和。不同时点的G值存在递归关系"
   ]
  },
  {
   "cell_type": "markdown",
   "metadata": {},
   "source": [
    "G(1:t) = R1 + R2 + R3 + ... + Rt\n",
    "\n",
    "V(0) = E(G(1:t))\n",
    "\n",
    "G(1:t) = R1 + G(2:t)\n",
    "\n",
    "V(1) = E(G(2:t))"
   ]
  },
  {
   "cell_type": "markdown",
   "metadata": {},
   "source": [
    "- 可以用自举(boostrap)的方式来估计价值函数，无需等待本轮游戏完结。 "
   ]
  },
  {
   "cell_type": "markdown",
   "metadata": {},
   "source": [
    "target: G(1:t)\n",
    "\n",
    "target: R1 + G(2:t)\n",
    "\n",
    "target: R1 + V(1)"
   ]
  },
  {
   "cell_type": "markdown",
   "metadata": {},
   "source": [
    "V(St) = V(St) + alpha * (Rt + V(St+1) -V(St))"
   ]
  },
  {
   "cell_type": "code",
   "execution_count": 82,
   "metadata": {},
   "outputs": [],
   "source": [
    "from help import FrozenLake, print_policy, test_game\n",
    "import numpy as np"
   ]
  },
  {
   "cell_type": "code",
   "execution_count": 83,
   "metadata": {},
   "outputs": [],
   "source": [
    "def decay_schedule(init_value, min_value, decay_ratio, max_steps, log_start=-2, log_base=10):\n",
    "    decay_steps = int(max_steps * decay_ratio)\n",
    "    rem_steps = max_steps - decay_steps\n",
    "    values = np.logspace(log_start, 0, decay_steps, base=log_base, endpoint=True)[::-1]\n",
    "    values = (values - values.min()) / (values.max() - values.min())\n",
    "    values = (init_value - min_value) * values + min_value\n",
    "    values = np.pad(values, (0, rem_steps), 'edge')\n",
    "    return values"
   ]
  },
  {
   "cell_type": "code",
   "execution_count": 84,
   "metadata": {},
   "outputs": [],
   "source": [
    "alphas = decay_schedule(0.1,0.001,0.5,1000)"
   ]
  },
  {
   "cell_type": "code",
   "execution_count": 134,
   "metadata": {},
   "outputs": [],
   "source": [
    "alphas = decay_schedule(1,0.0001,0.8, 20000)"
   ]
  },
  {
   "cell_type": "code",
   "execution_count": 85,
   "metadata": {},
   "outputs": [],
   "source": [
    "import matplotlib.pylab as plt\n",
    "%matplotlib inline"
   ]
  },
  {
   "cell_type": "code",
   "execution_count": 135,
   "metadata": {},
   "outputs": [
    {
     "data": {
      "text/plain": [
       "[<matplotlib.lines.Line2D at 0x16ff155e0b0>]"
      ]
     },
     "execution_count": 135,
     "metadata": {},
     "output_type": "execute_result"
    },
    {
     "data": {
      "image/png": "[encoded data removed]",
      "text/plain": [
       "<Figure size 640x480 with 1 Axes>"
      ]
     },
     "metadata": {},
     "output_type": "display_data"
    }
   ],
   "source": [
    "plt.plot(alphas)"
   ]
  },
  {
   "cell_type": "code",
   "execution_count": 87,
   "metadata": {},
   "outputs": [],
   "source": [
    "def select_action(state, Q, epsilon):\n",
    "    if np.random.random() > epsilon:\n",
    "        return np.argmax(Q[state])\n",
    "    else:\n",
    "        return np.random.randint(len(Q[state]))"
   ]
  },
  {
   "cell_type": "code",
   "execution_count": 140,
   "metadata": {},
   "outputs": [],
   "source": [
    "def sarsa(env,episodes=100, gamma=0.9,test_policy_freq=1000):\n",
    "    nS, nA = 16, 4\n",
    "    Q = np.zeros((nS, nA), dtype=np.float64)\n",
    "    alphas = decay_schedule(0.5,0.01,0.5, episodes)\n",
    "    epsilons = decay_schedule(1,0.01,0.8, episodes)\n",
    "    \n",
    "    for i in range(episodes): \n",
    "        state = env.reset()\n",
    "        finished = False\n",
    "        action = select_action(state, Q, epsilons[i])\n",
    "        while not finished:\n",
    "            next_state, reward, finished = env.step(action)\n",
    "            next_action = select_action(next_state, Q, epsilons[i])\n",
    "            target = reward + gamma * Q[next_state][next_action] * (not finished)\n",
    "            error = target - Q[state][action]\n",
    "            Q[state][action] = Q[state][action] + alphas[i] * error\n",
    "            state, action = next_state, next_action\n",
    "\n",
    "        pi = lambda s: {s:a for s, a in enumerate(np.argmax(Q, axis=1))}[s]\n",
    "        \n",
    "        if i % test_policy_freq == 0:\n",
    "                print(\"Test episode {} Reaches goal {:.2f}%. \".format\n",
    "                (i, test_game(env, pi,)*100))\n",
    "\n",
    "    return pi,Q"
   ]
  },
  {
   "cell_type": "code",
   "execution_count": 91,
   "metadata": {},
   "outputs": [],
   "source": [
    "env = FrozenLake()"
   ]
  },
  {
   "cell_type": "code",
   "execution_count": 141,
   "metadata": {},
   "outputs": [
    {
     "name": "stdout",
     "output_type": "stream",
     "text": [
      "Test episode 0 Reaches goal 0.00%. \n",
      "Test episode 1000 Reaches goal 27.00%. \n",
      "Test episode 2000 Reaches goal 21.00%. \n",
      "Test episode 3000 Reaches goal 15.00%. \n",
      "Test episode 4000 Reaches goal 17.00%. \n",
      "Test episode 5000 Reaches goal 14.00%. \n",
      "Test episode 6000 Reaches goal 68.00%. \n",
      "Test episode 7000 Reaches goal 78.00%. \n",
      "Test episode 8000 Reaches goal 41.00%. \n",
      "Test episode 9000 Reaches goal 63.00%. \n",
      "Test episode 10000 Reaches goal 61.00%. \n",
      "Test episode 11000 Reaches goal 61.00%. \n",
      "Test episode 12000 Reaches goal 74.00%. \n",
      "Test episode 13000 Reaches goal 50.00%. \n",
      "Test episode 14000 Reaches goal 67.00%. \n",
      "Test episode 15000 Reaches goal 72.00%. \n",
      "Test episode 16000 Reaches goal 65.00%. \n",
      "Test episode 17000 Reaches goal 72.00%. \n",
      "Test episode 18000 Reaches goal 75.00%. \n",
      "Test episode 19000 Reaches goal 68.00%. \n"
     ]
    }
   ],
   "source": [
    "policy_sarsa,Q_sarsa = sarsa(env,episodes=20000)"
   ]
  },
  {
   "cell_type": "markdown",
   "metadata": {},
   "source": [
    "sarsa所利用的信息中噪声较少，学习比蒙特卡罗更快"
   ]
  },
  {
   "cell_type": "code",
   "execution_count": 142,
   "metadata": {},
   "outputs": [
    {
     "name": "stdout",
     "output_type": "stream",
     "text": [
      "Policy:\n",
      "| 00      < | 01      ^ | 02      < | 03      ^ |\n",
      "| 04      < |           | 06      > |           |\n",
      "| 08      ^ | 09      v | 10      < |           |\n",
      "|           | 13      > | 14      v |           |\n"
     ]
    }
   ],
   "source": [
    "print_policy(policy_sarsa)"
   ]
  },
  {
   "cell_type": "code",
   "execution_count": 143,
   "metadata": {},
   "outputs": [],
   "source": [
    "def q_learning(env,episodes=100,gamma=0.9,test_policy_freq=1000):\n",
    "    nS, nA = 16,4\n",
    "    Q = np.zeros((nS, nA), dtype=np.float64)\n",
    "    alphas = decay_schedule(0.5,0.01,0.5, episodes)\n",
    "    epsilons = decay_schedule(1,0.01,0.8, episodes)\n",
    "    for i in range(episodes): \n",
    "        state = env.reset()\n",
    "        finished = False\n",
    "        while not finished:\n",
    "            action = select_action(state, Q, epsilons[i])\n",
    "            next_state, reward, finished = env.step(action)\n",
    "            # 学习所用的Q值和sarsa不一样\n",
    "            target = reward + gamma * Q[next_state].max() * (not finished)\n",
    "            error = target - Q[state][action]\n",
    "            Q[state][action] = Q[state][action] + alphas[i] * error\n",
    "            state = next_state\n",
    "\n",
    "\n",
    "        pi = lambda s: {s:a for s, a in enumerate(np.argmax(Q, axis=1))}[s]\n",
    "        \n",
    "        if i % test_policy_freq == 0:\n",
    "                print(\"Test episode {} Reaches goal {:.2f}%. \".format\n",
    "                (i, test_game(env, pi)*100))\n",
    "\n",
    "    return pi,Q"
   ]
  },
  {
   "cell_type": "code",
   "execution_count": null,
   "metadata": {},
   "outputs": [
    {
     "name": "stdout",
     "output_type": "stream",
     "text": [
      "Test episode 0 Reaches goal 0.00%. \n",
      "Test episode 1000 Reaches goal 24.00%. \n",
      "Test episode 2000 Reaches goal 20.00%. \n",
      "Test episode 3000 Reaches goal 14.00%. \n",
      "Test episode 4000 Reaches goal 36.00%. \n",
      "Test episode 5000 Reaches goal 46.00%. \n",
      "Test episode 6000 Reaches goal 26.00%. \n",
      "Test episode 7000 Reaches goal 67.00%. \n",
      "Test episode 8000 Reaches goal 55.00%. \n",
      "Test episode 9000 Reaches goal 71.00%. \n",
      "Test episode 10000 Reaches goal 74.00%. \n",
      "Test episode 11000 Reaches goal 64.00%. \n",
      "Test episode 12000 Reaches goal 73.00%. \n",
      "Test episode 13000 Reaches goal 69.00%. \n",
      "Test episode 14000 Reaches goal 75.00%. \n",
      "Test episode 15000 Reaches goal 72.00%. \n",
      "Test episode 16000 Reaches goal 75.00%. \n",
      "Test episode 17000 Reaches goal 62.00%. \n",
      "Test episode 18000 Reaches goal 78.00%. \n",
      "Test episode 19000 Reaches goal 72.00%. \n"
     ]
    }
   ],
   "source": [
    "policy_qlearning,Q_qlearning = q_learning(env,episodes=20000)"
   ]
  },
  {
   "cell_type": "markdown",
   "metadata": {},
   "source": [
    "- SARSA是“知行合一”的agent （on-policy）\n",
    "- Q-learning是“知行不合一”的agent。(off-policy)\n",
    "- 学习时使用下一状态的最大Q值做估计，更贪心一些"
   ]
  },
  {
   "cell_type": "code",
   "execution_count": 101,
   "metadata": {},
   "outputs": [
    {
     "name": "stdout",
     "output_type": "stream",
     "text": [
      "Policy:\n",
      "| 00      < | 01      ^ | 02      < | 03      ^ |\n",
      "| 04      < |           | 06      < |           |\n",
      "| 08      ^ | 09      v | 10      < |           |\n",
      "|           | 13      > | 14      v |           |\n"
     ]
    }
   ],
   "source": [
    "print_policy(policy_qlearning)"
   ]
  }
 ],
 "metadata": {
  "kernelspec": {
   "display_name": "base",
   "language": "python",
   "name": "python3"
  },
  "language_info": {
   "codemirror_mode": {
    "name": "ipython",
    "version": 3
   },
   "file_extension": ".py",
   "mimetype": "text/x-python",
   "name": "python",
   "nbconvert_exporter": "python",
   "pygments_lexer": "ipython3",
   "version": "3.10.9"
  },
  "orig_nbformat": 4
 },
 "nbformat": 4,
 "nbformat_minor": 2
}
